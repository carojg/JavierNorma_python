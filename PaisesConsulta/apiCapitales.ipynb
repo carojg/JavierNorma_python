{
 "cells": [
  {
   "cell_type": "markdown",
   "metadata": {},
   "source": [
    "Norma Carolina Javier Gonzalez.\n",
    "Consultas a una api usando RestFul."
   ]
  },
  {
   "cell_type": "markdown",
   "metadata": {},
   "source": [
    "Entorno de desarrollo: jupyter notebook"
   ]
  },
  {
   "cell_type": "code",
   "execution_count": 1,
   "metadata": {},
   "outputs": [],
   "source": [
    "#Importamos librerias\n",
    "import requests\n",
    "import json\n",
    "from IPython.display import SVG, display"
   ]
  },
  {
   "cell_type": "code",
   "execution_count": 2,
   "metadata": {},
   "outputs": [],
   "source": [
    "def peticionApi(pais):\n",
    "    # Creamos la petición HTTP con GET:\n",
    "    URL = \"https://restcountries.eu/rest/v2/\"#Guardamos la url\n",
    "    PARAMS = \"name/\"+ pais #Guardamos los parametros\n",
    "    resp = requests.get(URL + PARAMS)#Solicitamos los datos\n",
    "\n",
    "    if (resp.status_code == 200): #Verificamos que tenga datos\n",
    "        txt = resp.text #Lo guardamos en una variable\n",
    "\n",
    "        if (txt[0] == \"[\"): #Si el primer caracter es [ entonces eliminamos el primero y el ultimo\n",
    "            txt = txt[ 1:len(txt) - 1]\n",
    "\n",
    "        objDicc = json.loads(txt) #Cargamos el archivo en formato json\n",
    "\n",
    "        return objDicc;\n",
    "    else:\n",
    "        return \"nada\""
   ]
  },
  {
   "cell_type": "code",
   "execution_count": 3,
   "metadata": {},
   "outputs": [
    {
     "name": "stdout",
     "output_type": "stream",
     "text": [
      "Introduce el nombre del país que requiera buscar: aaa\n",
      "La cadena que ingreso es:  aaa \n",
      "\n"
     ]
    }
   ],
   "source": [
    "#Capturamos los datos\n",
    "pais = input(\"Introduce el nombre del país que requiera buscar: \")\n",
    "print (\"La cadena que ingreso es: \",pais, \"\\n\")#Imprimimos el dato ingresado"
   ]
  },
  {
   "cell_type": "code",
   "execution_count": 4,
   "metadata": {},
   "outputs": [
    {
     "name": "stdout",
     "output_type": "stream",
     "text": [
      "Ese pais no existe!\n"
     ]
    }
   ],
   "source": [
    "obj = peticionApi(pais); #Mandamos a llamar a la función para conectarnos a la api\n",
    "#Esta función nos retorna un diccionario\n",
    "#print(type(obj))\n",
    "\n",
    "if (obj != \"nada\"):\n",
    "    urlImg = obj[\"flag\"] #Extraemos la imagen\n",
    "\n",
    "    #Imprimimos los datos\n",
    "    print(\"Nombre del Pais: \", obj[\"name\"], \"\\n\",\n",
    "          \"Capital: \", obj[\"capital\"], \"\\n\",\n",
    "          \"Habitantes: \", obj[\"population\"], \"\\n\",\n",
    "          \"Bandera (url): \", urlImg, \"\\n\"\n",
    "         )\n",
    "\n",
    "    display(SVG(url=urlImg)) #Imprimimos la imagen  \n",
    "else:\n",
    "    print(\"Ese pais no existe!\")"
   ]
  },
  {
   "cell_type": "code",
   "execution_count": null,
   "metadata": {},
   "outputs": [],
   "source": []
  }
 ],
 "metadata": {
  "kernelspec": {
   "display_name": "Python 3",
   "language": "python",
   "name": "python3"
  },
  "language_info": {
   "codemirror_mode": {
    "name": "ipython",
    "version": 3
   },
   "file_extension": ".py",
   "mimetype": "text/x-python",
   "name": "python",
   "nbconvert_exporter": "python",
   "pygments_lexer": "ipython3",
   "version": "3.6.5"
  }
 },
 "nbformat": 4,
 "nbformat_minor": 2
}
